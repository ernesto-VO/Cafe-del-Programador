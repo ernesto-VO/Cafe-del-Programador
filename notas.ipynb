{
 "cells": [
  {
   "cell_type": "markdown",
   "metadata": {},
   "source": [
    "# **metodo de funcionamiento:**\n",
    "\n",
    "el cliente podra ir selecionando los elementos que desee agregar al pedido, posteriormente hara el pedido, primero pasara por el metodo pagar el cual verifica si la tarjeta ingresada es real y la fecha no a expirado para posteriormente se agregara el pedido a una lista en la computadora de los trabajadores los pedidos iran en el orden que se fueron pidiendo al esar listo el pedido, los trabajadores simplemente llamaran a nombre del pedido este diseño esta inspirado por kfc y su servicio automatisado"
   ]
  }
 ],
 "metadata": {
  "language_info": {
   "name": "python"
  }
 },
 "nbformat": 4,
 "nbformat_minor": 2
}
