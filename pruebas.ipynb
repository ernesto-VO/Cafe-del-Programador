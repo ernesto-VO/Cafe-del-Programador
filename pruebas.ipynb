{
 "cells": [
  {
   "cell_type": "code",
   "execution_count": 13,
   "metadata": {},
   "outputs": [],
   "source": [
    "import datetime\n",
    "\n",
    "class Cliente:\n",
    "\n",
    "    def __init__(self):\n",
    "        self.rol=\"cliente\"\n",
    "        self.lista_productos_pedido = lista_productos_pedido=[]\n",
    "\n",
    "    \n",
    "    def calcular_total(self):\n",
    "        cantidad_total = 0\n",
    "        for i in Cliente.lista_productos_pedido:\n",
    "            cantidad_total += i.precio\n",
    "        return cantidad_total\n",
    "\n",
    "    def agregar_producto_pedido(self,producto):\n",
    "        self.lista_productos_pedido.append(producto)\n",
    "\n",
    "    def quitar_producto_pedido(self, producto):\n",
    "        if producto in Cliente.lista_productos_pedido:\n",
    "            self.lista_productos_pedido.remove(producto)\n",
    "        else: \n",
    "            return False\n",
    "\n",
    "\n",
    "class ClienteRegistrado(Cliente):\n",
    "    def __init__(self, nombre, telefono, email):\n",
    "        super().__init__()  \n",
    "        self.nombre = nombre\n",
    "        self.id = id\n",
    "        self.telefono = telefono\n",
    "        self.email = email"
   ]
  }
 ],
 "metadata": {
  "kernelspec": {
   "display_name": "Python 3",
   "language": "python",
   "name": "python3"
  },
  "language_info": {
   "codemirror_mode": {
    "name": "ipython",
    "version": 3
   },
   "file_extension": ".py",
   "mimetype": "text/x-python",
   "name": "python",
   "nbconvert_exporter": "python",
   "pygments_lexer": "ipython3",
   "version": "3.13.1"
  }
 },
 "nbformat": 4,
 "nbformat_minor": 2
}
